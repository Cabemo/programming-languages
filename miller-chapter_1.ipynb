{
 "cells": [
  {
   "cell_type": "code",
   "execution_count": 1,
   "metadata": {},
   "outputs": [
    {
     "name": "stdout",
     "output_type": "stream",
     "text": [
      "Hello, World\n"
     ]
    },
    {
     "data": {
      "text/plain": [
       "nil"
      ]
     },
     "execution_count": 1,
     "metadata": {},
     "output_type": "execute_result"
    }
   ],
   "source": [
    "(println \"Hello, World\")"
   ]
  },
  {
   "cell_type": "code",
   "execution_count": 1,
   "metadata": {},
   "outputs": [
    {
     "data": {
      "text/plain": [
       "14"
      ]
     },
     "execution_count": 1,
     "metadata": {},
     "output_type": "execute_result"
    }
   ],
   "source": [
    "(def ^:dynamic n 1 )\n",
    "(defn alpha\n",
    "([](* n 2))\n",
    "    ([n] (* n 2)))\n",
    "\n",
    "(+ (alpha)\n",
    "   (binding [n 2]\n",
    "       (+ (alpha) (alpha 4))))"
   ]
  },
  {
   "cell_type": "code",
   "execution_count": 1,
   "metadata": {},
   "outputs": [
    {
     "name": "stderr",
     "output_type": "stream",
     "text": [
      "Syntax error compiling at (REPL:4:8).\n",
      "Unable to resolve symbol: refy in this context\n",
      "Execution error (IllegalArgumentException) at user/eval5507$fn$G (REPL:1).\n",
      "No implementation of method: :do-it of protocol: #'user/Quiz6 found for class: clojure.lang.Var$Unbound\n"
     ]
    },
    {
     "ename": "class java.lang.IllegalArgumentException",
     "evalue": "",
     "execution_count": 1,
     "output_type": "error",
     "status": "error",
     "traceback": [
      "core_deftype.clj:   583 clojure.core$_cache_protocol_fn/invokeStatic",
      "core_deftype.clj:   575 clojure.core$_cache_protocol_fn/invoke",
      "        core.clj:  3214 clojure.core$eval/invokeStatic",
      "        core.clj:  3210 clojure.core$eval/invoke",
      "        main.clj:   437 clojure.main$repl$read_eval_print__9086$fn__9089/invoke",
      "        main.clj:   458 clojure.main$repl$fn__9095/invoke",
      "        main.clj:   368 clojure.main$repl/doInvoke",
      "     RestFn.java:  1523 clojure.lang.RestFn/invoke",
      "        AFn.java:    22 clojure.lang.AFn/run",
      "        AFn.java:    22 clojure.lang.AFn/run",
      "     Thread.java:   745 java.lang.Thread/run"
     ]
    }
   ],
   "source": [
    "(defprotocol Quiz6 (do-it [this x]))\n",
    "(extend-type String Quiz6 \n",
    "    (do-it [this x] (* x (count this))))\n",
    "(def q (refy Quiz6\n",
    "             (do-it [this x] (* x x))))\n",
    "(+ (do-it \"hi\" 5) (do-it q 2))"
   ]
  },
  {
   "cell_type": "code",
   "execution_count": 5,
   "metadata": {},
   "outputs": [
    {
     "name": "stderr",
     "output_type": "stream",
     "text": [
      "Execution error (IllegalStateException) at user/eval4113 (REPL:3).\n",
      "Invalid reference state\n"
     ]
    },
    {
     "ename": "class java.lang.IllegalStateException",
     "evalue": "",
     "execution_count": 5,
     "output_type": "error",
     "status": "error",
     "traceback": [
      "              ARef.java:    33 clojure.lang.ARef/validate",
      "LockingTransaction.java:   313 clojure.lang.LockingTransaction/run",
      "LockingTransaction.java:   229 clojure.lang.LockingTransaction/runInTransaction",
      "               core.clj:  3214 clojure.core$eval/invokeStatic",
      "               core.clj:  3210 clojure.core$eval/invoke",
      "               main.clj:   437 clojure.main$repl$read_eval_print__9086$fn__9089/invoke",
      "               main.clj:   458 clojure.main$repl$fn__9095/invoke",
      "               main.clj:   368 clojure.main$repl/doInvoke",
      "            RestFn.java:  1523 clojure.lang.RestFn/invoke",
      "               AFn.java:    22 clojure.lang.AFn/run   ",
      "               AFn.java:    22 clojure.lang.AFn/run   ",
      "            Thread.java:   745 java.lang.Thread/run   "
     ]
    }
   ],
   "source": [
    "(def x (ref 6))\n",
    "(def y (ref 6 :validator even?))\n",
    "(dosync (alter x dec)\n",
    "        (alter y dec))"
   ]
  },
  {
   "cell_type": "code",
   "execution_count": 2,
   "metadata": {},
   "outputs": [
    {
     "name": "stderr",
     "output_type": "stream",
     "text": [
      "Syntax error compiling at (REPL:4:17).\n",
      "Unable to resolve symbol: +a in this context\n",
      "Syntax error compiling at (REPL:8:9).\n",
      "Unable to resolve symbol: ->T1 in this context\n",
      "Execution error (IllegalArgumentException) at user/eval5566 (REPL:11).\n",
      "No matching field found: b for class clojure.lang.Var$Unbound\n"
     ]
    },
    {
     "ename": "class java.lang.IllegalArgumentException",
     "evalue": "",
     "execution_count": 2,
     "output_type": "error",
     "status": "error",
     "traceback": [
      "Reflector.java:   397 clojure.lang.Reflector/getInstanceField",
      "Reflector.java:   440 clojure.lang.Reflector/invokeNoArgInstanceMember",
      "      core.clj:  3214 clojure.core$eval/invokeStatic",
      "      core.clj:  3210 clojure.core$eval/invoke",
      "      main.clj:   437 clojure.main$repl$read_eval_print__9086$fn__9089/invoke",
      "      main.clj:   458 clojure.main$repl$fn__9095/invoke",
      "      main.clj:   368 clojure.main$repl/doInvoke",
      "   RestFn.java:  1523 clojure.lang.RestFn/invoke",
      "      AFn.java:    22 clojure.lang.AFn/run",
      "      AFn.java:    22 clojure.lang.AFn/run",
      "   Thread.java:   745 java.lang.Thread/run"
     ]
    }
   ],
   "source": [
    "(defprotocol MyProtocol (m [x y]))\n",
    "(deftype T1 [a b]\n",
    "    MyProtocol\n",
    "    (m [x y] (* (+a b) y)))\n",
    "(deftype T2 [c]\n",
    "    MyProtocol\n",
    "    (m [x y] (- c y)))\n",
    "(def o1 (->T1 1 2))\n",
    "(def o2 (->T2 3))\n",
    "\n",
    "(-(m o1 (.b o1)) (m o2 (.c o2)))"
   ]
  },
  {
   "cell_type": "code",
   "execution_count": null,
   "metadata": {},
   "outputs": [],
   "source": []
  },
  {
   "cell_type": "code",
   "execution_count": null,
   "metadata": {},
   "outputs": [],
   "source": []
  }
 ],
 "metadata": {
  "kernelspec": {
   "display_name": "Clojure (clojupyter=0.3.2=1)",
   "language": "clojure",
   "name": "conda-clojupyter"
  },
  "language_info": {
   "file_extension": ".clj",
   "mimetype": "text/x-clojure",
   "name": "clojure",
   "version": "1.10.1"
  }
 },
 "nbformat": 4,
 "nbformat_minor": 4
}
