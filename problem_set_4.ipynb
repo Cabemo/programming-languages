{
 "cells": [
  {
   "cell_type": "markdown",
   "metadata": {},
   "source": [
    "# Problem Set #4\n",
    "\n",
    "## Tc2006 Programming Languages\n",
    "\n",
    "March 1, 2021.\n",
    "\n",
    "_Authors of this notebook’s solution:_\n",
    "\n",
    "_Emilio Canton A01226707_\n",
    "_Jorge Palacios A01654203_\n",
    "_Mauricio Cassab A01025475_\n",
    "\n",
    "**Instructions:** Write the Clojure code to solve the following problems. Make sure each function passes all the unit tests."
   ]
  },
  {
   "cell_type": "code",
   "execution_count": 23,
   "metadata": {},
   "outputs": [
    {
     "data": {
      "text/plain": [
       "nil"
      ]
     },
     "execution_count": 23,
     "metadata": {},
     "output_type": "execute_result"
    }
   ],
   "source": [
    ";; External functions required for this notebook.\n",
    "(require '[clojure.test :refer [is]])\n",
    "(require '[cemerick.pomegranate :refer [add-dependencies]])\n",
    "(add-dependencies :coordinates '[[org.clojure/math.numeric-tower \"0.0.4\"]])\n",
    "(require '[clojure.math.numeric-tower :refer [abs]])"
   ]
  },
  {
   "cell_type": "markdown",
   "metadata": {},
   "source": [
    "---\n",
    "\n",
    "## Problem 1\n",
    "\n",
    "The function `list-of-symbols?` takes a list `lst` as its input. It returns `true` if all the elements (possibly zero) contained in `lst` are symbols, or `false` otherwise. Use the `symbol?` predicate to determine if something is a symbol."
   ]
  },
  {
   "cell_type": "code",
   "execution_count": 2,
   "metadata": {},
   "outputs": [
    {
     "data": {
      "text/plain": [
       "#'user/list-of-symbols?"
      ]
     },
     "execution_count": 2,
     "metadata": {},
     "output_type": "execute_result"
    }
   ],
   "source": [
    "(defn list-of-symbols?\n",
    "  [lst]\n",
    "  (every? symbol? lst)\n",
    "    )"
   ]
  },
  {
   "cell_type": "code",
   "execution_count": 3,
   "metadata": {},
   "outputs": [
    {
     "data": {
      "text/plain": [
       "true"
      ]
     },
     "execution_count": 3,
     "metadata": {},
     "output_type": "execute_result"
    }
   ],
   "source": [
    ";;; Unit tests:\n",
    "(is (= true (list-of-symbols? ())))\n",
    "(is (= true (list-of-symbols? '(a))))\n",
    "(is (= true (list-of-symbols? '(a b c d e))))\n",
    "(is (= false (list-of-symbols? '(a b c d 42 e))))\n",
    "(is (= false (list-of-symbols? '(42 a b c))))"
   ]
  },
  {
   "cell_type": "markdown",
   "metadata": {},
   "source": [
    "---\n",
    "\n",
    "## Problem 2\n",
    "\n",
    "The function `standard-deviation` takes a list of numbers `lst` as its input. It returns the _population standard deviation_ of the numbers contained in `lst`, or `nil` if `lst` is empty. The population standard deviation ($\\sigma$) is defined as: \n",
    "\n",
    "$$ \n",
    "\\sigma = \\sqrt{\\frac{1}{n} \\sum_{i=1}^{n}(x_i - \\bar{x})^2} \n",
    "$$\n",
    "\n",
    "$\\bar{x}$ is the average, which is defined as:\n",
    "\n",
    "$$ \n",
    "\\bar{x} = \\frac{1}{n}\\sum_{i=1}^{n}x_i\n",
    "$$"
   ]
  },
  {
   "cell_type": "code",
   "execution_count": 10,
   "metadata": {},
   "outputs": [
    {
     "data": {
      "text/plain": [
       "#'user/square"
      ]
     },
     "execution_count": 10,
     "metadata": {},
     "output_type": "execute_result"
    }
   ],
   "source": [
    "(defn square [x] (* x x))"
   ]
  },
  {
   "cell_type": "code",
   "execution_count": 21,
   "metadata": {},
   "outputs": [
    {
     "data": {
      "text/plain": [
       "#'user/standard-deviation"
      ]
     },
     "execution_count": 21,
     "metadata": {},
     "output_type": "execute_result"
    }
   ],
   "source": [
    "(defn standard-deviation\n",
    "    [lst]\n",
    "    (let [average (/ (reduce + lst) (count lst))]\n",
    "        (Math/sqrt (/ (reduce + (map (fn [x] (square (- x average))) lst))\n",
    "                      (count lst))))\n",
    "  )"
   ]
  },
  {
   "cell_type": "code",
   "execution_count": 22,
   "metadata": {},
   "outputs": [
    {
     "data": {
      "text/plain": [
       "true"
      ]
     },
     "execution_count": 22,
     "metadata": {},
     "output_type": "execute_result"
    }
   ],
   "source": [
    "(defn aprox=\n",
    "  \"Checks if x is approximately equal to y. Returns true\n",
    "  if |x - y| < epsilon, or false otherwise.\"\n",
    "  [x y epsilon]\n",
    "  (< (abs (- x y)) epsilon))\n",
    "\n",
    ";;; Unit tests:\n",
    "(is (aprox= 1.87\n",
    "            (standard-deviation\n",
    "              '(6 2 3 1))\n",
    "            0.01))\n",
    "(is (aprox= 12.3153\n",
    "            (standard-deviation\n",
    "              '(4 8 15 16 23 42))\n",
    "            0.0001))\n",
    "(is (aprox= 7.07106\n",
    "            (standard-deviation\n",
    "              '(110 105 90 100 95))\n",
    "            0.00001))\n",
    "(is (aprox= 2.983\n",
    "            (standard-deviation\n",
    "              '(9 2 5 4 12 7 8 11\n",
    "                 9 3 7 4 12 5 4 10\n",
    "                 9 6 9 4))\n",
    "            0.001))"
   ]
  },
  {
   "cell_type": "markdown",
   "metadata": {},
   "source": [
    "---\n",
    "\n",
    "## Problem 3\n",
    "\n",
    "The function `replic` takes two inputs: an integer number `n` and a list `lst`, where `n` ≥ 0. It returns a new list that replicates `n` times each element contained in `lst`. "
   ]
  },
  {
   "cell_type": "code",
   "execution_count": 24,
   "metadata": {},
   "outputs": [
    {
     "data": {
      "text/plain": [
       "#'user/replic"
      ]
     },
     "execution_count": 24,
     "metadata": {},
     "output_type": "execute_result"
    }
   ],
   "source": [
    "(defn replic\n",
    "  [n lst]\n",
    "    (< n 0)\n",
    "    nil\n",
    "    (mapcat (fn [x] (repeat n x)) lst)\n",
    ")"
   ]
  },
  {
   "cell_type": "code",
   "execution_count": 25,
   "metadata": {},
   "outputs": [
    {
     "data": {
      "text/plain": [
       "true"
      ]
     },
     "execution_count": 25,
     "metadata": {},
     "output_type": "execute_result"
    }
   ],
   "source": [
    ";;; Unit tests:\n",
    "(is (= () (replic 7 ())))\n",
    "(is (= () (replic 0 '(a b c))))\n",
    "(is (= '(a a a) (replic 3 '(a))))\n",
    "(is (= '(1 1 1 1 2 2 2 2 3 3 3 3 4 4 4 4)\n",
    "       (replic 4 '(1 2 3 4))))"
   ]
  },
  {
   "cell_type": "markdown",
   "metadata": {},
   "source": [
    "---\n",
    "\n",
    "## Problem 4\n",
    "\n",
    "The function `dot-product` takes two inputs: the lists `a` and `b`. It returns the result of performing the _dot product_ of `a` times `b`. The dot product is an algebraic operation that takes two equal-length sequences of numbers and returns a single number obtained by multiplying corresponding entries and then summing those products. "
   ]
  },
  {
   "cell_type": "code",
   "execution_count": 27,
   "metadata": {
    "scrolled": false
   },
   "outputs": [
    {
     "data": {
      "text/plain": [
       "([1 4] [2 5] [3 6])"
      ]
     },
     "execution_count": 27,
     "metadata": {},
     "output_type": "execute_result"
    }
   ],
   "source": [
    "(map vector '(1 2 3) '(4 5 6))"
   ]
  },
  {
   "cell_type": "code",
   "execution_count": 40,
   "metadata": {},
   "outputs": [
    {
     "data": {
      "text/plain": [
       "#'user/dot-product"
      ]
     },
     "execution_count": 40,
     "metadata": {},
     "output_type": "execute_result"
    }
   ],
   "source": [
    "(defn dot-product\n",
    "    [a b]\n",
    "    (reduce + (map (fn [x] (reduce * x)) (map vector a b)))\n",
    ")"
   ]
  },
  {
   "cell_type": "code",
   "execution_count": 41,
   "metadata": {},
   "outputs": [
    {
     "data": {
      "text/plain": [
       "true"
      ]
     },
     "execution_count": 41,
     "metadata": {},
     "output_type": "execute_result"
    }
   ],
   "source": [
    ";;; Unit tests:\n",
    "(is (= 0 (dot-product () ())))\n",
    "(is (= 32 (dot-product '(1 2 3) '(4 5 6))))\n",
    "(is (= 21.45 (dot-product '(1.3 3.4 5.7 9.5 10.4)\n",
    "                          '(-4.5 3.0 1.5 0.9 0.0))))"
   ]
  },
  {
   "cell_type": "markdown",
   "metadata": {},
   "source": [
    "---\n",
    "\n",
    "## Problem 5\n",
    "\n",
    "The function `insert` takes two inputs: a number `n` and a list of numbers `lst` in ascending order. It returns a new list with the same elements as `lst` but inserting `n` in its corresponding place. Your solution should have a time complexity of $O(n)$."
   ]
  },
  {
   "cell_type": "code",
   "execution_count": 46,
   "metadata": {},
   "outputs": [
    {
     "data": {
      "text/plain": [
       "#'user/insert"
      ]
     },
     "execution_count": 46,
     "metadata": {},
     "output_type": "execute_result"
    }
   ],
   "source": [
    "(defn insert\n",
    "    [n lst]\n",
    "    (sort (cons n lst))\n",
    ")"
   ]
  },
  {
   "cell_type": "code",
   "execution_count": 45,
   "metadata": {},
   "outputs": [
    {
     "data": {
      "text/plain": [
       "true"
      ]
     },
     "execution_count": 45,
     "metadata": {},
     "output_type": "execute_result"
    }
   ],
   "source": [
    ";;; Unit tests:\n",
    "(is (= '(14) (insert 14 ())))\n",
    "(is (= '(4 5 6 7 8) (insert 4 '(5 6 7 8))))\n",
    "(is (= '(1 3 5 6 7 9 16) (insert 5 '(1 3 6 7 9 16))))\n",
    "(is (= '(1 5 6 10) (insert 10 '(1 5 6))))"
   ]
  },
  {
   "cell_type": "markdown",
   "metadata": {},
   "source": [
    "---\n",
    "\n",
    "## Problem 6\n",
    "\n",
    "The function `insertion-sort` takes an unordered list of numbers as its input, and returns a new list with the same elements but in ascending order. You MUST use the `insert` function defined in the previous exercise to write `insertion-sort`. You MUST NOT use the predefined `sort` function."
   ]
  },
  {
   "cell_type": "code",
   "execution_count": null,
   "metadata": {},
   "outputs": [],
   "source": [
    "(defn insertion-sort\n",
    "  [lst]\n",
    "  ;;; your code goes here\n",
    "  nil)"
   ]
  },
  {
   "cell_type": "code",
   "execution_count": null,
   "metadata": {},
   "outputs": [],
   "source": [
    ";;; Unit tests:\n",
    "(is (= () (insertion-sort ())))\n",
    "(is (= '(0 1 3 3 4 6 7 8 9) (insertion-sort '(4 3 6 8 3 0 9 1 7))))\n",
    "(is (= '(1 2 3 4 5 6) (insertion-sort '(1 2 3 4 5 6))))\n",
    "(is (= '(1 5 5 5 5 5 5) (insertion-sort '(5 5 5 1 5 5 5))))"
   ]
  },
  {
   "cell_type": "markdown",
   "metadata": {},
   "source": [
    "---\n",
    "\n",
    "## Problem 7\n",
    "\n",
    "The function `binary` takes a positive integer `n` as its input. If `n` is equal to zero, it returns an empty list. If `n `is greater than zero, it returns a list with a sequence of ones and zeros equivalent to the binary representation of `n`. "
   ]
  },
  {
   "cell_type": "code",
   "execution_count": null,
   "metadata": {},
   "outputs": [],
   "source": [
    "(defn binary\n",
    "  [n]\n",
    "  ;;; your code goes here\n",
    "  nil)"
   ]
  },
  {
   "cell_type": "code",
   "execution_count": null,
   "metadata": {},
   "outputs": [],
   "source": [
    ";;; Unit tests:\n",
    "(is (= () (binary 0)))\n",
    "(is (= '(1 1 1 1 0) (binary 30)))\n",
    "(is (= '(1 0 0 0 0 0 0 0 0 0 0) (binary 1024)))\n",
    "(is (= '(1 0 1 1 0 0 0 0 0 1 0 0 0 0 1 1) (binary 45123)))"
   ]
  },
  {
   "cell_type": "markdown",
   "metadata": {},
   "source": [
    "---\n",
    "\n",
    "## Problem 8\n",
    "\n",
    "The function `prime-factors` takes an integer `n` as input (assume that `n` > 0), and returns a list containing all the prime factors of `n` in ascending order. The prime factors are the prime numbers that divide a number exactly. If you multiply all the prime factors you get the original number."
   ]
  },
  {
   "cell_type": "code",
   "execution_count": null,
   "metadata": {},
   "outputs": [],
   "source": [
    "(defn prime-factors\n",
    "  [n]\n",
    "  ;;; your code goes here\n",
    "  nil)"
   ]
  },
  {
   "cell_type": "code",
   "execution_count": null,
   "metadata": {},
   "outputs": [],
   "source": [
    ";;; Unit tests:\n",
    "(is (= () (prime-factors 1)))\n",
    "(is (= '(2 3) (prime-factors 6)))\n",
    "(is (= '(2 2 2 2 2 3) (prime-factors 96)))\n",
    "(is (= '(97) (prime-factors 97)))\n",
    "(is (= '(2 3 3 37) (prime-factors 666)))"
   ]
  }
 ],
 "metadata": {
  "kernelspec": {
   "display_name": "Clojure (clojupyter=0.3.2=1)",
   "language": "clojure",
   "name": "conda-clojupyter"
  },
  "language_info": {
   "file_extension": ".clj",
   "mimetype": "text/x-clojure",
   "name": "clojure",
   "version": "1.10.1"
  }
 },
 "nbformat": 4,
 "nbformat_minor": 4
}
